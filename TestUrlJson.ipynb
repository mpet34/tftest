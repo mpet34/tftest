{
 "cells": [
  {
   "cell_type": "code",
   "execution_count": null,
   "metadata": {
    "dotnet_interactive": {
     "language": "csharp"
    },
    "polyglot_notebook": {
     "kernelName": "csharp"
    }
   },
   "outputs": [
    {
     "data": {
      "text/html": [
       "<div><div></div><div></div><div><strong>Installed Packages</strong><ul><li><span>JmesPath.Net, 1.0.330</span></li><li><span>System.Net.Http, 4.3.4</span></li><li><span>xunit, 2.9.2</span></li></ul></div></div>"
      ]
     },
     "metadata": {},
     "output_type": "display_data"
    }
   ],
   "source": [
    "#r \"nuget: System.Net.Http\"\n",
    "#r \"nuget: xunit\"\n",
    "#r \"nuget: JmesPath.Net, 1.0.330\""
   ]
  },
  {
   "cell_type": "code",
   "execution_count": null,
   "metadata": {
    "dotnet_interactive": {
     "language": "csharp"
    },
    "polyglot_notebook": {
     "kernelName": "csharp"
    }
   },
   "outputs": [],
   "source": [
    "using System.Net.Http;\n",
    "using System.Text.Json;\n",
    "using Xunit;\n",
    "using DevLab.JmesPath;\n",
    "\n",
    "//This can be written as a nuget package\n",
    "class TestResponse{\n",
    "    string _response= \"{}\";\n",
    "    string _apiUrl = \"\";\n",
    "    HttpClient client = new HttpClient();\n",
    "\n",
    "    public string Response => _response;\n",
    "\n",
    "    public static TestResponse  Create(string url){\n",
    "        return new TestResponse(url);\n",
    "    }\n",
    "\n",
    "    private TestResponse(string url){\n",
    "        _apiUrl = url; // Example API\n",
    "    }\n",
    "\n",
    "    public async Task<TestResponse> GetResponse(){\n",
    "        _response = await client.GetStringAsync(_apiUrl);\n",
    "        return this;\n",
    "    }\n",
    "\n",
    "    public void isEqual(string path, string value){\n",
    "        DevLab.JmesPath.JmesPath jmes = new DevLab.JmesPath.JmesPath();\n",
    "        var test = jmes.Transform(_response, path);\n",
    "        if(test != value){\n",
    "            Console.WriteLine($\"ERROR:\\t{path}\\n\\t\\tExpected {value} but got {test}\");\n",
    "            //throw new InvalidOperationException($\"Expected {value} but got {test}\");\n",
    "        }else{\n",
    "            Console.WriteLine($\"OK:\\t{path}\\n\\t\\tExpected {value} and got {test}\");\n",
    "        }\n",
    "        Console.ResetColor();\n",
    "    }\n",
    "}"
   ]
  },
  {
   "cell_type": "markdown",
   "metadata": {},
   "source": [
    "Test"
   ]
  },
  {
   "cell_type": "code",
   "execution_count": null,
   "metadata": {
    "dotnet_interactive": {
     "language": "csharp"
    },
    "polyglot_notebook": {
     "kernelName": "csharp"
    }
   },
   "outputs": [
    {
     "data": {
      "text/plain": [
       "{\"id\":4,\"category\":{\"id\":1,\"name\":\"Dogs\"},\"name\":\"Dog 1\",\"photoUrls\":[\"url1\",\"url2\"],\"tags\":[{\"id\":1,\"name\":\"tag1\"},{\"id\":2,\"name\":\"tag2\"}],\"status\":\"available\"}"
      ]
     },
     "metadata": {},
     "output_type": "display_data"
    }
   ],
   "source": [
    "var test = await TestResponse.Create(\"https://petstore3.swagger.io/api/v3/pet/4\").GetResponse();\n",
    "\n",
    "test.Response"
   ]
  },
  {
   "cell_type": "code",
   "execution_count": null,
   "metadata": {
    "dotnet_interactive": {
     "language": "csharp"
    },
    "polyglot_notebook": {
     "kernelName": "csharp"
    }
   },
   "outputs": [],
   "source": [
    "//This can be genarated from json file\n",
    "test.isEqual(\"name\", \"\\\"Dog 1\\\"\");\n",
    "test.isEqual(\"status\", \"\\\"available\\\"\");\n",
    "test.isEqual(\"category.name\", \"\\\"Cats\\\"\");\n",
    "test.isEqual(\"photoUrls | length(@)\", \"2\");  // test array length\n",
    "test.isEqual(\"photoUrls[0]\", \"\\\"url1\\\"\");        // test array value "
   ]
  },
  {
   "cell_type": "code",
   "execution_count": null,
   "metadata": {},
   "outputs": [
    {
     "name": "stdout",
     "output_type": "stream",
     "text": [
      "OK:\tid\n",
      "\t\tExpected 4 and got 4\n",
      "OK:\tcategory.id\n",
      "\t\tExpected 1 and got 1\n",
      "OK:\tcategory.name\n",
      "\t\tExpected \"Dogs\" and got \"Dogs\"\n",
      "OK:\tname\n",
      "\t\tExpected \"Dog 1\" and got \"Dog 1\"\n",
      "OK:\tphotoUrls | length(@)\n",
      "\t\tExpected 2 and got 2\n",
      "OK:\tphotoUrls[0]\n",
      "\t\tExpected \"url1\" and got \"url1\"\n",
      "OK:\tphotoUrls[1]\n",
      "\t\tExpected \"url2\" and got \"url2\"\n",
      "OK:\ttags | length(@)\n",
      "\t\tExpected 2 and got 2\n",
      "OK:\ttags[0].id\n",
      "\t\tExpected 1 and got 1\n",
      "OK:\ttags[0].name\n",
      "\t\tExpected \"tag1\" and got \"tag1\"\n",
      "OK:\ttags[1].id\n",
      "\t\tExpected 2 and got 2\n",
      "OK:\ttags[1].name\n",
      "\t\tExpected \"tag2\" and got \"tag2\"\n",
      "OK:\tstatus\n",
      "\t\tExpected \"available\" and got \"available\"\n"
     ]
    }
   ],
   "source": [
    "test.isEqual(\"id\", \"4\");\n",
    "test.isEqual(\"category.id\", \"1\");\n",
    "test.isEqual(\"category.name\", \"\\\"Dogs\\\"\");\n",
    "test.isEqual(\"name\", \"\\\"Dog 1\\\"\");\n",
    "test.isEqual(\"photoUrls | length(@)\", \"2\");\n",
    "test.isEqual(\"photoUrls[0]\", \"\\\"url1\\\"\");\n",
    "test.isEqual(\"photoUrls[1]\", \"\\\"url2\\\"\");\n",
    "test.isEqual(\"tags | length(@)\", \"2\");\n",
    "test.isEqual(\"tags[0].id\", \"1\");\n",
    "test.isEqual(\"tags[0].name\", \"\\\"tag1\\\"\");\n",
    "test.isEqual(\"tags[1].id\", \"2\");\n",
    "test.isEqual(\"tags[1].name\", \"\\\"tag2\\\"\");\n",
    "test.isEqual(\"status\", \"\\\"available\\\"\");"
   ]
  }
 ],
 "metadata": {
  "kernelspec": {
   "display_name": ".NET (C#)",
   "language": "C#",
   "name": ".net-csharp"
  },
  "polyglot_notebook": {
   "kernelInfo": {
    "defaultKernelName": "csharp",
    "items": [
     {
      "aliases": [],
      "languageName": "csharp",
      "name": "csharp"
     }
    ]
   }
  }
 },
 "nbformat": 4,
 "nbformat_minor": 2
}
